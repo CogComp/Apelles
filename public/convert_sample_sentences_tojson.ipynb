{
 "cells": [
  {
   "cell_type": "code",
   "execution_count": 15,
   "metadata": {},
   "outputs": [],
   "source": [
    "sampleSentences = [\"The boy gave the frog to the girl. The boy's gift was to the girl. The girl was given a frog. \",\n",
    "\"A squirrel is storing a lot of nuts to prepare for a seasonal change in the environment. \",\n",
    "\"The construction of the John Smith library finished on time.\",\n",
    "\"Amanda found herself in the Winnebago with her ex-boyfriend, an herbalist and a pet detective. Rome is in Lazio province and Naples in Campania. The region at the end of 2014 had a population of around 5,869,000 people, making it the third-most-populous region of Italy. \",\n",
    "\"Rome is in Lazio province and Naples in Campania. The region at the end of 2014 had a population of around 5,869,000 people, making it the third-most-populous region of Italy. \",\n",
    "\"Harvey made landfall Friday night near Rockport, Texas, north of Corpus Christi, as the first Category 4 hurricane to landfall in the U.S. since Charley in August 2004.  Harvey's center of circulation is currently located near Victoria, Texas, only roughly 50 miles from where it made landfall late Friday night. mph reported Saturday morning near Victoria. A Texas Coastal Ocean Observing Network station at Aransas Pass reported sustained winds of 102 mph and a wind gust of 132 mph Friday night. Rainfall amounts of more than 10 inches have already accumulated in southeast Texas, including 14.46 inches near Austwell.\",\n",
    "\"The stocks declined on Tuesday . John declined the cake .\",\n",
    "\"The flu season is winding down, and it has killed 105 children so far - about the average toll. The season started about a month earlier than usual, sparking concerns it might turn into the worst in a decade. It ended up being very hard on the elderly, but was moderately severe overall, according to the Centers for Disease Control and Prevention. Six of the pediatric deaths were reported in the last week, and it's possible there will be more, said the CDC's Dr. Michael Jhung said Friday. All but four of the children who died were old enough to be vaccinated, but 90 percent of them did not get vaccinated, CDC officials said. This year's vaccine was considered effective in children, though it didn't work very well in older people. In that group, 177 out of every 100,000 were hospitalized with flu-related illness in the past several months. That's more than 2 1/2 times higher than any other recent season. This flu season started in early December, a month earlier than usual, and peaked by the end of year. Since then, flu reports have been dropping off throughout the country.\",\n",
    "\"Babar wonders how he can get new clothing. Luckily, a very rich old man who has always been fond of little elephants understands right away that he is longing for a fine suit. As he likes to make people happy, he gives him his wallet. \",\n",
    "\"The city councilmen refused the demonstrators a permit because they feared violence.\",\n",
    "\"Dan tried to stop Bill from getting help for the injured bird. He is very callous.\",\n",
    "\"A half hour later the Vice President arrived .\",\n",
    "\"Lawrence stared a minute at the lighted ribbon of traffic , hoping that a clue to his dislike of the Vice President would appear .\",\n",
    "\"Poverty imposes a kind of chastity on the ambitious .\",\n",
    "\"This meant sorting out press clippings and the like .\",\n",
    "\"Mickie sat over his second whisky-on-the-rocks in a little bar next to the funeral parlor on Pennsylvania Avenue\",\n",
    "\"Within two weeks Warren was ringing the bell at the abbey gate .\",\n",
    "\"He and Warren had traveled together for four days .\",\n",
    "\"With leather cups fitted in his handlebars , he steered his bicycle .\",\n",
    "\"The warped , broken trees in the valley assumed wraith-like shapes .\"]\n",
    "\n",
    "\n",
    "    \n",
    "        \n",
    "    "
   ]
  },
  {
   "cell_type": "code",
   "execution_count": 37,
   "metadata": {},
   "outputs": [],
   "source": [
    "import unicodedata as ud\n",
    "\n",
    "def is_latin(latin_letters,uchr):\n",
    "    try: return latin_letters[uchr]\n",
    "    except KeyError:\n",
    "         return latin_letters.setdefault(uchr, 'LATIN' in ud.name(uchr))\n",
    "        \n",
    "def is_written_number(word):\n",
    "    word = word.replace(\"-\",\"\")\n",
    "    words = word.split()\n",
    "    units = [\n",
    "        \"zero\", \"one\", \"two\", \"three\", \"four\", \"five\", \"six\", \"seven\", \"eight\",\n",
    "        \"nine\", \"ten\", \"eleven\", \"twelve\", \"thirteen\", \"fourteen\", \"fifteen\",\n",
    "        \"sixteen\", \"seventeen\", \"eighteen\", \"nineteen\",\n",
    "      ]\n",
    "\n",
    "    tens = [\"twenty\", \"thirty\", \"forty\", \"fifty\", \"sixty\", \"seventy\", \"eighty\", \"ninety\"]\n",
    "\n",
    "    scales = [\"hundred\", \"thousand\", \"million\", \"billion\", \"trillion\"]\n",
    "    \n",
    "    numberWords = units + tens + scales\n",
    "    \n",
    "    for w in word:\n",
    "        if(w in numberWords):\n",
    "            return True\n",
    "    return False\n",
    "    \n",
    "        \n"
   ]
  },
  {
   "cell_type": "code",
   "execution_count": 60,
   "metadata": {},
   "outputs": [
    {
     "data": {
      "text/plain": [
       "False"
      ]
     },
     "execution_count": 60,
     "metadata": {},
     "output_type": "execute_result"
    }
   ],
   "source": [
    "import nltk\n",
    "\n",
    "\n",
    "def quantityTest(string):\n",
    "    words = string.split()\n",
    "    for word in words:\n",
    "        word = word.replace(\",\",\"\")\n",
    "        if(word.isdigit() or is_written_number(word)):\n",
    "            return True\n",
    "    return False\n",
    "\n",
    "def NERTest(string):\n",
    "    named_enity_chucks = nltk.ne_chunk(nltk.pos_tag(nltk.word_tokenize(string)))\n",
    "    for chunk in named_enity_chucks:\n",
    "        if hasattr(chunk, 'label'):\n",
    "            return True\n",
    "    return False\n",
    "\n",
    "def temporalNormalizerTest(string):\n",
    "    return False\n",
    "\n",
    "def transliterationTest(string):\n",
    "    latin_letters= {}\n",
    "    all_latin_chars = all(is_latin(latin_letters, uchr)\n",
    "           for uchr in string\n",
    "           if uchr.isalpha()) # isalpha suggested by John Machin\n",
    "    return not all_latin_chars \n",
    "\n",
    "\n",
    "def SRLTest(string):\n",
    "    return False\n",
    "\n",
    "temporalNormalizerTest(\"Dan went swimming at 3pm yesterday.\")"
   ]
  },
  {
   "cell_type": "code",
   "execution_count": 61,
   "metadata": {},
   "outputs": [],
   "source": [
    "import json\n",
    "\n",
    "outputFileName = \"tagged_samples.json\"\n",
    "\n",
    "tests = [(\"quantities\",quantityTest),(\"NER\",NERTest),(\"transliteration\",transliterationTest),\n",
    "         (\"temporalNormalizer\",temporalNormalizerTest),(\"SRL\",SRLTest)]\n",
    "\n",
    "outputDict ={}\n",
    "for sentence in sampleSentences:\n",
    "    #these tags will work for basically any sentence\n",
    "    tags=[\"POS\",\"Lemmatizer\",\"Dependency Tree\",\"Shallow parse\"]\n",
    "    for test in tests:\n",
    "        function = test[1]\n",
    "        tagName = test[0]\n",
    "        if(function(sentence)):\n",
    "            tags.append(tagName)\n",
    "    outputDict[sentence] = tags\n",
    "\n",
    "with open(outputFileName,'w') as outputFile:\n",
    "    json.dump(outputDict,outputFile)\n"
   ]
  },
  {
   "cell_type": "code",
   "execution_count": null,
   "metadata": {},
   "outputs": [],
   "source": []
  }
 ],
 "metadata": {
  "kernelspec": {
   "display_name": "Python 3",
   "language": "python",
   "name": "python3"
  },
  "language_info": {
   "codemirror_mode": {
    "name": "ipython",
    "version": 3
   },
   "file_extension": ".py",
   "mimetype": "text/x-python",
   "name": "python",
   "nbconvert_exporter": "python",
   "pygments_lexer": "ipython3",
   "version": "3.6.7"
  }
 },
 "nbformat": 4,
 "nbformat_minor": 2
}
