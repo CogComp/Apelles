{
 "cells": [
  {
   "cell_type": "code",
   "execution_count": 4,
   "metadata": {},
   "outputs": [],
   "source": [
    "import numpy as np\n",
    "sampleSentences = np.loadtxt(\"sample_sentences.txt\",delimiter =\"\\n\", dtype=str)"
   ]
  },
  {
   "cell_type": "code",
   "execution_count": 5,
   "metadata": {},
   "outputs": [],
   "source": [
    "import unicodedata as ud\n",
    "\n",
    "def is_latin(latin_letters,uchr):\n",
    "    try: return latin_letters[uchr]\n",
    "    except KeyError:\n",
    "         return latin_letters.setdefault(uchr, 'LATIN' in ud.name(uchr))\n",
    "        \n",
    "def is_written_number(word):\n",
    "    word = word.replace(\"-\",\"\")\n",
    "    words = word.split()\n",
    "    units = [\n",
    "        \"zero\", \"one\", \"two\", \"three\", \"four\", \"five\", \"six\", \"seven\", \"eight\",\n",
    "        \"nine\", \"ten\", \"eleven\", \"twelve\", \"thirteen\", \"fourteen\", \"fifteen\",\n",
    "        \"sixteen\", \"seventeen\", \"eighteen\", \"nineteen\",\n",
    "      ]\n",
    "\n",
    "    tens = [\"twenty\", \"thirty\", \"forty\", \"fifty\", \"sixty\", \"seventy\", \"eighty\", \"ninety\"]\n",
    "\n",
    "    scales = [\"hundred\", \"thousand\", \"million\", \"billion\", \"trillion\"]\n",
    "    \n",
    "    numberWords = units + tens + scales\n",
    "    \n",
    "    for w in word:\n",
    "        if(w in numberWords):\n",
    "            return True\n",
    "    return False\n",
    "    \n",
    "        \n"
   ]
  },
  {
   "cell_type": "code",
   "execution_count": 6,
   "metadata": {},
   "outputs": [
    {
     "data": {
      "text/plain": [
       "False"
      ]
     },
     "execution_count": 6,
     "metadata": {},
     "output_type": "execute_result"
    }
   ],
   "source": [
    "import nltk\n",
    "\n",
    "\n",
    "def quantityTest(string):\n",
    "    words = string.split()\n",
    "    for word in words:\n",
    "        word = word.replace(\",\",\"\")\n",
    "        if(word.isdigit() or is_written_number(word)):\n",
    "            return True\n",
    "    return False\n",
    "\n",
    "def NERTest(string):\n",
    "    named_enity_chucks = nltk.ne_chunk(nltk.pos_tag(nltk.word_tokenize(string)))\n",
    "    for chunk in named_enity_chucks:\n",
    "        if hasattr(chunk, 'label'):\n",
    "            return True\n",
    "    return False\n",
    "\n",
    "def temporalNormalizerTest(string):\n",
    "    return False\n",
    "\n",
    "def transliterationTest(string):\n",
    "    latin_letters= {}\n",
    "    all_latin_chars = all(is_latin(latin_letters, uchr)\n",
    "           for uchr in string\n",
    "           if uchr.isalpha()) # isalpha suggested by John Machin\n",
    "    return not all_latin_chars \n",
    "\n",
    "\n",
    "def SRLTest(string):\n",
    "    return False\n",
    "\n",
    "temporalNormalizerTest(\"Dan went swimming at 3pm yesterday.\")"
   ]
  },
  {
   "cell_type": "code",
   "execution_count": 26,
   "metadata": {},
   "outputs": [
    {
     "name": "stdout",
     "output_type": "stream",
     "text": [
      "done\n"
     ]
    }
   ],
   "source": [
    "import json\n",
    "from itertools import combinations \n",
    "  \n",
    "#in output file each sentence/piece of text has its own id.\n",
    "#each combination of tags has a corrosponding set of ids\n",
    "\n",
    "outputFileName = \"tagged_samples.json\"\n",
    "\n",
    "tests = [(\"QUANTITIES\",quantityTest),(\"NER_CONLL\",NERTest),(\"TRANSLITERATION\",transliterationTest),\n",
    "         (\"TIMEX3\",temporalNormalizerTest),(\"SRL\",SRLTest)]\n",
    "\n",
    "tempDict ={}\n",
    "for sentence in sampleSentences:\n",
    "    #these tags will work for basically any sentence\n",
    "    tags=[\"POS\",\"LEMMA\",\"DEPENDENCY\",\"SHALLOW_PARSE\"]\n",
    "    for test in tests:\n",
    "        function = test[1]\n",
    "        tagName = test[0]\n",
    "        if(function(sentence)):\n",
    "            tags.append(tagName)\n",
    "    tempDict[sentence] = tags\n",
    "\n",
    "outputDict ={}\n",
    "i = 0\n",
    "for key, value in tempDict.items():\n",
    "    outputDict[key] = i\n",
    "    i+=1\n",
    "    \n",
    "for key, value in tempDict.items():\n",
    "    tagsList = value\n",
    "    sentenceID = outputDict[key]\n",
    "    for i in range(1,len(tagsList)+1):\n",
    "        tuples = combinations(tagsList,i)\n",
    "        for t in tuples:\n",
    "            #makes the appropriate key \n",
    "            tagsKey = str(sorted(list(t)))\n",
    "            \n",
    "            indexList = outputDict.get(tagsKey, [])\n",
    "            indexList.append(sentenceID)\n",
    "            outputDict[tagsKey] = indexList\n",
    "        \n",
    "with open(outputFileName,'w') as outputFile:\n",
    "    json.dump(outputDict, outputFile)\n",
    "\n",
    "\n",
    "print(\"done\")"
   ]
  },
  {
   "cell_type": "code",
   "execution_count": null,
   "metadata": {},
   "outputs": [],
   "source": []
  }
 ],
 "metadata": {
  "kernelspec": {
   "display_name": "Python 3",
   "language": "python",
   "name": "python3"
  },
  "language_info": {
   "codemirror_mode": {
    "name": "ipython",
    "version": 3
   },
   "file_extension": ".py",
   "mimetype": "text/x-python",
   "name": "python",
   "nbconvert_exporter": "python",
   "pygments_lexer": "ipython3",
   "version": "3.6.7"
  }
 },
 "nbformat": 4,
 "nbformat_minor": 2
}
